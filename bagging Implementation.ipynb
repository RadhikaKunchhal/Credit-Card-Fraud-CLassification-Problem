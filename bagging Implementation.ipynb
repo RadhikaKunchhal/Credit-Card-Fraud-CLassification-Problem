{
 "cells": [
  {
   "cell_type": "code",
   "execution_count": 53,
   "metadata": {},
   "outputs": [],
   "source": [
    "# importing libraries\n",
    "import pandas as pd\n",
    "import numpy as np\n",
    "import matplotlib.pyplot as plt\n",
    "import seaborn as sns\n",
    "import math\n",
    "\n",
    "import warnings\n",
    "warnings.filterwarnings(action = 'ignore')\n",
    "\n",
    "\n",
    "df = pd.read_csv(\"credit.csv\")\n",
    "\n",
    "data = df.copy()\n",
    "\n",
    "c = {1 :'Graduate School' , 2:'University'  , 3:'High School' , 4:'Others' , 5:'Others', 6:'Others' , 0:'Others'}\n",
    "df['Education'] = df['EDUCATION'].map(c)\n",
    "\n",
    "x = {1:1 , 2:2, 3:3 , 0:3}\n",
    "df[\"Marriage\"] = df[\"MARRIAGE\"].map(x)\n",
    "\n",
    "df = df.drop(columns=['EDUCATION' , 'MARRIAGE'])\n",
    "\n",
    "\n",
    "df = pd.get_dummies(data = df, columns=['Marriage'], drop_first=True)\n",
    "\n",
    "df = pd.get_dummies(data = df, columns=['SEX'], drop_first=True)\n",
    "\n",
    "df = pd.get_dummies(data = df, columns=['Education'], drop_first=True)"
   ]
  },
  {
   "cell_type": "markdown",
   "metadata": {},
   "source": [
    "### Train and test data"
   ]
  },
  {
   "cell_type": "code",
   "execution_count": 54,
   "metadata": {},
   "outputs": [],
   "source": [
    "#seperating independent and dependent variables\n",
    "x = df.drop(['default payment next month'], axis=1)\n",
    "y = df['default payment next month']\n",
    "x.shape, y.shape\n",
    "\n",
    "from sklearn.model_selection import train_test_split\n",
    "train , test = train_test_split(df,stratify=y, random_state = 56)\n",
    "\n",
    "# cols = train_x.columns\n"
   ]
  },
  {
   "cell_type": "markdown",
   "metadata": {},
   "source": [
    "#### Shape of Train and Testing data"
   ]
  },
  {
   "cell_type": "code",
   "execution_count": 55,
   "metadata": {
    "scrolled": true
   },
   "outputs": [
    {
     "name": "stdout",
     "output_type": "stream",
     "text": [
      "(22500, 27) (22500,)\n",
      "(7500, 27) (7500,)\n"
     ]
    }
   ],
   "source": [
    "#seperating independent and dependent variables\n",
    "train_x = train.drop(['default payment next month'], axis=1)\n",
    "train_y = train['default payment next month']\n",
    "print(train_x.shape, train_y.shape)\n",
    "\n",
    "#seperating independent and dependent variables\n",
    "test_x = test.drop(['default payment next month'], axis=1)\n",
    "test_y = test['default payment next month']\n",
    "print(test_x.shape, test_y.shape)\n",
    "\n",
    "cols = train_x.columns"
   ]
  },
  {
   "cell_type": "code",
   "execution_count": null,
   "metadata": {},
   "outputs": [],
   "source": []
  },
  {
   "cell_type": "markdown",
   "metadata": {},
   "source": [
    "### New Features"
   ]
  },
  {
   "cell_type": "code",
   "execution_count": 56,
   "metadata": {},
   "outputs": [],
   "source": [
    "c = {1 :'Graduate School' , 2:'University'  , 3:'High School' , 4:'Others' , 5:'Others', 6:'Others' , 0:'Others'}\n",
    "data['Education'] = data['EDUCATION'].map(c)\n",
    "\n",
    "# x = {1:1 , 2:2, 3:3 , 0:3}"
   ]
  },
  {
   "cell_type": "code",
   "execution_count": 57,
   "metadata": {},
   "outputs": [
    {
     "name": "stdout",
     "output_type": "stream",
     "text": [
      "(22500, 25) (22500,)\n",
      "(7500, 25) (7500,)\n"
     ]
    }
   ],
   "source": [
    "#seperating independent and dependent variables\n",
    "x = data.drop(['default payment next month'], axis=1)\n",
    "y = data['default payment next month']\n",
    "x.shape, y.shape\n",
    "\n",
    "\n",
    "from sklearn.model_selection import train_test_split\n",
    "train , test = train_test_split(data,stratify=y, random_state = 56)\n",
    "\n",
    "# cols = train_x.columns\n",
    "#seperating independent and dependent variables\n",
    "train_x = train.drop(['default payment next month'], axis=1)\n",
    "train_y = train['default payment next month']\n",
    "print(train_x.shape, train_y.shape)\n",
    "\n",
    "#seperating independent and dependent variables\n",
    "test_x = test.drop(['default payment next month'], axis=1)\n",
    "test_y = test['default payment next month']\n",
    "print(test_x.shape, test_y.shape)\n",
    "\n",
    "cols = train_x.columns"
   ]
  },
  {
   "cell_type": "code",
   "execution_count": 58,
   "metadata": {},
   "outputs": [],
   "source": [
    "def div(z,x,y):\n",
    "    try:\n",
    "        z = x / y\n",
    "    except ZeroDivisionError:\n",
    "        z = 0"
   ]
  },
  {
   "cell_type": "markdown",
   "metadata": {},
   "source": [
    "### Creating New Features on train and test data seperately to avoid Leakage of data"
   ]
  },
  {
   "cell_type": "markdown",
   "metadata": {},
   "source": [
    "**Binning Age Column**"
   ]
  },
  {
   "cell_type": "code",
   "execution_count": 59,
   "metadata": {},
   "outputs": [],
   "source": [
    "bins = [19 , 30 , 40 , 50 , 60 , 100]\n",
    "labels = [\"Young\" , \"Adult\" , \"Mature\" , \"Old\" , \"Very Old\"]\n",
    "train[\"Age_Bin\"] = pd.cut(train['AGE'], bins, labels = labels, include_lowest = True)\n",
    "\n",
    "train = pd.get_dummies(data = train, columns=['Age_Bin'], drop_first=True)"
   ]
  },
  {
   "cell_type": "code",
   "execution_count": 60,
   "metadata": {},
   "outputs": [],
   "source": [
    "bins = [19 , 30 , 40 , 50 , 60 , 100]\n",
    "labels = [\"Young\" , \"Adult\" , \"Mature\" , \"Old\" , \"Very Old\"]\n",
    "test[\"Age_Bin\"] = pd.cut(test['AGE'], bins, labels = labels, include_lowest = True)\n",
    "\n",
    "test = pd.get_dummies(data = test, columns=['Age_Bin'], drop_first=True)"
   ]
  },
  {
   "cell_type": "markdown",
   "metadata": {},
   "source": [
    "**Working with credit card payment columns**\n",
    "- credit card limit \n",
    "- months bill \n",
    "- months prevous payments \n",
    "- how was payment paid (on time or how much late)"
   ]
  },
  {
   "cell_type": "code",
   "execution_count": 61,
   "metadata": {},
   "outputs": [],
   "source": [
    "train[\"Pay_Sum\"] = train[\"PAY_0\"] + train[\"PAY_2\"] + train[\"PAY_3\"] + train[\"PAY_4\"] + train[\"PAY_5\"] + train[\"PAY_6\"]\n",
    "train[\"Bill_Amt_Sum\"] = train[\"BILL_AMT1\"] + train[\"BILL_AMT2\"] +train[\"BILL_AMT3\"]+train[\"BILL_AMT4\"]+train[\"BILL_AMT5\"]+train[\"BILL_AMT6\"]\n",
    "train[\"Bill_Amt_Avg\"] = train[\"Bill_Amt_Sum\"]/6\n",
    "train[\"Pay_Amt_Sum\"] = train[\"PAY_AMT1\"] + train[\"PAY_AMT2\"] + train[\"PAY_AMT3\"] + train[\"PAY_AMT4\"] + train[\"PAY_AMT5\"] + train[\"PAY_AMT6\"]\n",
    "train[\"Pay_Amt_Avg\"] = train[\"Pay_Amt_Sum\"]/6\n",
    "train[\"Weight_Bill_Avg\"] = (train[\"PAY_0\"]*train[\"BILL_AMT1\"] + train[\"PAY_2\"]*train[\"BILL_AMT2\"] + train[\"PAY_3\"]*train[\"BILL_AMT3\"] + train[\"PAY_4\"]*train[\"BILL_AMT4\"] + train[\"PAY_5\"]*train[\"BILL_AMT5\"] + train[\"PAY_6\"]*train[\"BILL_AMT6\"]) / 6\n",
    "train[\"Weight_Pay_avg\"] = (train[\"PAY_0\"]*train[\"PAY_AMT1\"] + train[\"PAY_2\"]*train[\"PAY_AMT2\"] + train[\"PAY_3\"]*train[\"PAY_AMT3\"] + train[\"PAY_4\"]*train[\"PAY_AMT4\"] + train[\"PAY_5\"]*train[\"PAY_AMT5\"] + train[\"PAY_6\"]*train[\"PAY_AMT6\"] ) / 6\n",
    "train[\"Unweight_Bill_Avg\"] = (train[\"Pay_Sum\"]*train[\"Bill_Amt_Sum\"])/6\n",
    "train[\"Unweight_Pay_Avg\"] = (train[\"Pay_Sum\"]*train[\"Pay_Amt_Sum\"])/6\n",
    "train[\"lim_Avg\"] = (train[\"Weight_Bill_Avg\"]*6 / train[\"LIMIT_BAL\"])*100\n",
    "train[\"pay_over_bill\"] = 0\n",
    "div(train[\"pay_over_bill\"] , train[\"Bill_Amt_Avg\"] , train[\"Pay_Amt_Avg\"])"
   ]
  },
  {
   "cell_type": "code",
   "execution_count": 62,
   "metadata": {},
   "outputs": [],
   "source": [
    "test[\"Pay_Sum\"] = test[\"PAY_0\"] + test[\"PAY_2\"] + test[\"PAY_3\"] + test[\"PAY_4\"] + test[\"PAY_5\"] + test[\"PAY_6\"]\n",
    "test[\"Bill_Amt_Sum\"] = test[\"BILL_AMT1\"] + test[\"BILL_AMT2\"] +test[\"BILL_AMT3\"]+test[\"BILL_AMT4\"]+test[\"BILL_AMT5\"]+test[\"BILL_AMT6\"]\n",
    "test[\"Bill_Amt_Avg\"] = test[\"Bill_Amt_Sum\"]/6\n",
    "test[\"Pay_Amt_Sum\"] = test[\"PAY_AMT1\"] + test[\"PAY_AMT2\"] + test[\"PAY_AMT3\"] + test[\"PAY_AMT4\"] + test[\"PAY_AMT5\"] + test[\"PAY_AMT6\"]\n",
    "test[\"Pay_Amt_Avg\"] = test[\"Pay_Amt_Sum\"]/6\n",
    "test[\"Weight_Bill_Avg\"] = (test[\"PAY_0\"]*test[\"BILL_AMT1\"] + test[\"PAY_2\"]*test[\"BILL_AMT2\"] + test[\"PAY_3\"]*test[\"BILL_AMT3\"] + test[\"PAY_4\"]*test[\"BILL_AMT4\"] + test[\"PAY_5\"]*test[\"BILL_AMT5\"] + test[\"PAY_6\"]*test[\"BILL_AMT6\"]) / 6\n",
    "test[\"Weight_Pay_avg\"] = (test[\"PAY_0\"]*test[\"PAY_AMT1\"] + test[\"PAY_2\"]*test[\"PAY_AMT2\"] + test[\"PAY_3\"]*test[\"PAY_AMT3\"] + test[\"PAY_4\"]*test[\"PAY_AMT4\"] + test[\"PAY_5\"]*test[\"PAY_AMT5\"] + test[\"PAY_6\"]*test[\"PAY_AMT6\"] ) / 6\n",
    "test[\"Unweight_Bill_Avg\"] = (test[\"Pay_Sum\"]*test[\"Bill_Amt_Sum\"])/6\n",
    "test[\"Unweight_Pay_Avg\"] = (test[\"Pay_Sum\"]*test[\"Pay_Amt_Sum\"])/6\n",
    "test[\"lim_Avg\"] = (test[\"Weight_Bill_Avg\"]*6 / test[\"LIMIT_BAL\"])*100\n",
    "test[\"pay_over_bill\"] = 0\n",
    "div(test[\"pay_over_bill\"]  , test[\"Bill_Amt_Avg\"] , test[\"Pay_Amt_Avg\"]) "
   ]
  },
  {
   "cell_type": "markdown",
   "metadata": {},
   "source": [
    "**New Features on basis of :**\n",
    "- Relating sex and age \n",
    "- relating marriage and age\n",
    "- relating Sex and marriage\n",
    "- relating credit limit , bill amount and previous payment at once"
   ]
  },
  {
   "cell_type": "code",
   "execution_count": 63,
   "metadata": {},
   "outputs": [],
   "source": [
    "def corr_2_cols(Col1, Col2):\n",
    "    res = pd.crosstab(train[Col1],train[Col2])\n",
    "    # res = df1.groupby([Col1, Col2]).size().unstack()\n",
    "    res['perc'] = (res[res.columns[1]]/(res[res.columns[0]] + res[res.columns[1]]))\n",
    "    return res\n",
    "\n",
    "train['AgeBin'] = pd.cut(train['AGE'], 6, labels = [1,2,3,4,5,6])\n",
    "#because 1 2 3 ecc are \"categories\" so far and we need numbers\n",
    "train['AgeBin'] = pd.to_numeric(train['AgeBin'])\n",
    "train.loc[(train['AgeBin'] == 6) , 'AgeBin'] = 5\n",
    "\n",
    "\n",
    "train['SE_AG'] = 0 #creating a column in terms of sex and age\n",
    "train.loc[((train.SEX == 1) & (train.AgeBin == 1)) , 'SE_AG'] = 1 #man in 20's\n",
    "train.loc[((train.SEX == 1) & (train.AgeBin == 2)) , 'SE_AG'] = 2 #man in 30's\n",
    "train.loc[((train.SEX == 1) & (train.AgeBin == 3)) , 'SE_AG'] = 3 #man in 40's\n",
    "train.loc[((train.SEX == 1) & (train.AgeBin == 4)) , 'SE_AG'] = 4 #man in 50's\n",
    "train.loc[((train.SEX == 1) & (train.AgeBin == 5)) , 'SE_AG'] = 5 #man in 60's and above\n",
    "train.loc[((train.SEX == 2) & (train.AgeBin == 1)) , 'SE_AG'] = 6 #woman in 20's\n",
    "train.loc[((train.SEX == 2) & (train.AgeBin == 2)) , 'SE_AG'] = 7 #woman in 30's\n",
    "train.loc[((train.SEX == 2) & (train.AgeBin == 3)) , 'SE_AG'] = 8 #woman in 40's\n",
    "train.loc[((train.SEX == 2) & (train.AgeBin == 4)) , 'SE_AG'] = 9 #woman in 50's\n",
    "train.loc[((train.SEX == 2) & (train.AgeBin == 5)) , 'SE_AG'] = 10 #woman in 60's and above\n",
    "corr_2_cols('SE_AG', 'default payment next month')\n",
    "\n",
    "train['SE_MA'] = 0\n",
    "train.loc[((train.SEX == 1) & (train.MARRIAGE == 1)) , 'SE_MA'] = 1 #married man\n",
    "train.loc[((train.SEX == 1) & (train.MARRIAGE == 2)) , 'SE_MA'] = 2 #single man\n",
    "train.loc[((train.SEX == 1) & (train.MARRIAGE == 3)) , 'SE_MA'] = 3 #divorced man\n",
    "train.loc[((train.SEX == 2) & (train.MARRIAGE == 1)) , 'SE_MA'] = 4 #married woman\n",
    "train.loc[((train.SEX == 2) & (train.MARRIAGE == 2)) , 'SE_MA'] = 5 #single woman\n",
    "train.loc[((train.SEX == 2) & (train.MARRIAGE == 3)) , 'SE_MA'] = 6 #divorced woman\n",
    "corr_2_cols('SE_MA', 'default payment next month')\n",
    "\n",
    "## calculating Average expense from bill amount of previous and this month and the pay amount , dividing by limit balance\n",
    "\n",
    "train['Avg_exp_5'] = ((train['BILL_AMT5'] - (train['BILL_AMT6'] - train['PAY_AMT5']))) / train['LIMIT_BAL']\n",
    "train['Avg_exp_4'] = (((train['BILL_AMT5'] - (train['BILL_AMT6'] - train['PAY_AMT5'])) +\n",
    "                 (train['BILL_AMT4'] - (train['BILL_AMT5'] - train['PAY_AMT4']))) / 2) / train['LIMIT_BAL']\n",
    "train['Avg_exp_3'] = (((train['BILL_AMT5'] - (train['BILL_AMT6'] - train['PAY_AMT5'])) +\n",
    "                 (train['BILL_AMT4'] - (train['BILL_AMT5'] - train['PAY_AMT4'])) +\n",
    "                 (train['BILL_AMT3'] - (train['BILL_AMT4'] - train['PAY_AMT3']))) / 3) / train['LIMIT_BAL']\n",
    "train['Avg_exp_2'] = (((train['BILL_AMT5'] - (train['BILL_AMT6'] - train['PAY_AMT5'])) +\n",
    "                 (train['BILL_AMT4'] - (train['BILL_AMT5'] - train['PAY_AMT4'])) +\n",
    "                 (train['BILL_AMT3'] - (train['BILL_AMT4'] - train['PAY_AMT3'])) +\n",
    "                 (train['BILL_AMT2'] - (train['BILL_AMT3'] - train['PAY_AMT2']))) / 4) / train['LIMIT_BAL']\n",
    "train['Avg_exp_1'] = (((train['BILL_AMT5'] - (train['BILL_AMT6'] - train['PAY_AMT5'])) +\n",
    "                 (train['BILL_AMT4'] - (train['BILL_AMT5'] - train['PAY_AMT4'])) +\n",
    "                 (train['BILL_AMT3'] - (train['BILL_AMT4'] - train['PAY_AMT3'])) +\n",
    "                 (train['BILL_AMT2'] - (train['BILL_AMT3'] - train['PAY_AMT2'])) +\n",
    "                 (train['BILL_AMT1'] - (train['BILL_AMT2'] - train['PAY_AMT1']))) / 5) / train['LIMIT_BAL']\n"
   ]
  },
  {
   "cell_type": "code",
   "execution_count": 64,
   "metadata": {},
   "outputs": [],
   "source": [
    "def corr_2_cols(Col1, Col2):\n",
    "    res = pd.crosstab(test[Col1],test[Col2])\n",
    "    # res = df1.groupby([Col1, Col2]).size().unstack()\n",
    "    res['perc'] = (res[res.columns[1]]/(res[res.columns[0]] + res[res.columns[1]]))\n",
    "    return res\n",
    "\n",
    "test['AgeBin'] = pd.cut(test['AGE'], 6, labels = [1,2,3,4,5,6])\n",
    "#because 1 2 3 ecc are \"categories\" so far and we need numbers\n",
    "test['AgeBin'] = pd.to_numeric(test['AgeBin'])\n",
    "test.loc[(test['AgeBin'] == 6) , 'AgeBin'] = 5\n",
    "\n",
    "\n",
    "test['SE_AG'] = 0 #creating a column in terms of sex and age\n",
    "test.loc[((test.SEX == 1) & (test.AgeBin == 1)) , 'SE_AG'] = 1 #man in 20's\n",
    "test.loc[((test.SEX == 1) & (test.AgeBin == 2)) , 'SE_AG'] = 2 #man in 30's\n",
    "test.loc[((test.SEX == 1) & (test.AgeBin == 3)) , 'SE_AG'] = 3 #man in 40's\n",
    "test.loc[((test.SEX == 1) & (test.AgeBin == 4)) , 'SE_AG'] = 4 #man in 50's\n",
    "test.loc[((test.SEX == 1) & (test.AgeBin == 5)) , 'SE_AG'] = 5 #man in 60's and above\n",
    "test.loc[((test.SEX == 2) & (test.AgeBin == 1)) , 'SE_AG'] = 6 #woman in 20's\n",
    "test.loc[((test.SEX == 2) & (test.AgeBin == 2)) , 'SE_AG'] = 7 #woman in 30's\n",
    "test.loc[((test.SEX == 2) & (test.AgeBin == 3)) , 'SE_AG'] = 8 #woman in 40's\n",
    "test.loc[((test.SEX == 2) & (test.AgeBin == 4)) , 'SE_AG'] = 9 #woman in 50's\n",
    "test.loc[((test.SEX == 2) & (test.AgeBin == 5)) , 'SE_AG'] = 10 #woman in 60's and above\n",
    "corr_2_cols('SE_AG', 'default payment next month')\n",
    "\n",
    "test['SE_MA'] = 0\n",
    "test.loc[((test.SEX == 1) & (test.MARRIAGE == 1)) , 'SE_MA'] = 1 #married man\n",
    "test.loc[((test.SEX == 1) & (test.MARRIAGE == 2)) , 'SE_MA'] = 2 #single man\n",
    "test.loc[((test.SEX == 1) & (test.MARRIAGE == 3)) , 'SE_MA'] = 3 #divorced man\n",
    "test.loc[((test.SEX == 2) & (test.MARRIAGE == 1)) , 'SE_MA'] = 4 #married woman\n",
    "test.loc[((test.SEX == 2) & (test.MARRIAGE == 2)) , 'SE_MA'] = 5 #single woman\n",
    "test.loc[((test.SEX == 2) & (test.MARRIAGE == 3)) , 'SE_MA'] = 6 #divorced woman\n",
    "corr_2_cols('SE_MA', 'default payment next month')\n",
    "\n",
    "## calculating Average expense from bill amount of previous and this month and the pay amount , dividing by limit balance\n",
    "\n",
    "test['Avg_exp_5'] = ((test['BILL_AMT5'] - (test['BILL_AMT6'] - test['PAY_AMT5']))) / test['LIMIT_BAL']\n",
    "test['Avg_exp_4'] = (((test['BILL_AMT5'] - (test['BILL_AMT6'] - test['PAY_AMT5'])) +\n",
    "                 (test['BILL_AMT4'] - (test['BILL_AMT5'] - test['PAY_AMT4']))) / 2) / test['LIMIT_BAL']\n",
    "test['Avg_exp_3'] = (((test['BILL_AMT5'] - (test['BILL_AMT6'] - test['PAY_AMT5'])) +\n",
    "                 (test['BILL_AMT4'] - (test['BILL_AMT5'] - test['PAY_AMT4'])) +\n",
    "                 (test['BILL_AMT3'] - (test['BILL_AMT4'] - test['PAY_AMT3']))) / 3) / test['LIMIT_BAL']\n",
    "test['Avg_exp_2'] = (((test['BILL_AMT5'] - (test['BILL_AMT6'] - test['PAY_AMT5'])) +\n",
    "                 (test['BILL_AMT4'] - (test['BILL_AMT5'] - test['PAY_AMT4'])) +\n",
    "                 (test['BILL_AMT3'] - (test['BILL_AMT4'] - test['PAY_AMT3'])) +\n",
    "                 (test['BILL_AMT2'] - (test['BILL_AMT3'] - test['PAY_AMT2']))) / 4) / test['LIMIT_BAL']\n",
    "test['Avg_exp_1'] = (((test['BILL_AMT5'] - (test['BILL_AMT6'] - test['PAY_AMT5'])) +\n",
    "                 (test['BILL_AMT4'] - (test['BILL_AMT5'] - test['PAY_AMT4'])) +\n",
    "                 (test['BILL_AMT3'] - (test['BILL_AMT4'] - test['PAY_AMT3'])) +\n",
    "                 (test['BILL_AMT2'] - (test['BILL_AMT3'] - test['PAY_AMT2'])) +\n",
    "                 (test['BILL_AMT1'] - (test['BILL_AMT2'] - test['PAY_AMT1']))) / 5) / test['LIMIT_BAL']\n"
   ]
  },
  {
   "cell_type": "markdown",
   "metadata": {},
   "source": [
    "### Total Features : 57"
   ]
  },
  {
   "cell_type": "markdown",
   "metadata": {},
   "source": [
    "- Making dummies of necessary features\n",
    "- Splitting data as train_x and train_y and same for test"
   ]
  },
  {
   "cell_type": "code",
   "execution_count": 65,
   "metadata": {},
   "outputs": [],
   "source": [
    "train = pd.get_dummies(data = train, columns=['SEX'], drop_first=True)"
   ]
  },
  {
   "cell_type": "code",
   "execution_count": 66,
   "metadata": {},
   "outputs": [],
   "source": [
    "train = pd.get_dummies(data = train, columns=['EDUCATION'], drop_first=True)\n",
    "train = pd.get_dummies(data = train, columns=['Education'], drop_first=True)\n",
    "train = pd.get_dummies(data = train, columns=['MARRIAGE'], drop_first=True)"
   ]
  },
  {
   "cell_type": "code",
   "execution_count": 67,
   "metadata": {},
   "outputs": [],
   "source": [
    "test = pd.get_dummies(data = test, columns=['SEX'], drop_first=True)\n",
    "test = pd.get_dummies(data = test, columns=['EDUCATION'], drop_first=True)\n",
    "test = pd.get_dummies(data = test, columns=['Education'], drop_first=True)\n",
    "test = pd.get_dummies(data = test, columns=['MARRIAGE'], drop_first=True)"
   ]
  },
  {
   "cell_type": "code",
   "execution_count": 68,
   "metadata": {},
   "outputs": [
    {
     "name": "stdout",
     "output_type": "stream",
     "text": [
      "(22500, 57) (22500,)\n",
      "(7500, 57) (7500,)\n"
     ]
    }
   ],
   "source": [
    "#seperating independent and dependent variables\n",
    "train_x = train.drop(['default payment next month'], axis=1)\n",
    "train_y = train['default payment next month']\n",
    "print(train_x.shape, train_y.shape)\n",
    "\n",
    "#seperating independent and dependent variables\n",
    "test_x = test.drop(['default payment next month'], axis=1)\n",
    "test_y = test['default payment next month']\n",
    "print(test_x.shape, test_y.shape)\n",
    "\n",
    "cols2 = train_x.columns"
   ]
  },
  {
   "cell_type": "code",
   "execution_count": 69,
   "metadata": {},
   "outputs": [],
   "source": [
    "from sklearn.preprocessing import StandardScaler"
   ]
  },
  {
   "cell_type": "code",
   "execution_count": 70,
   "metadata": {},
   "outputs": [
    {
     "name": "stdout",
     "output_type": "stream",
     "text": [
      "(16875, 57) (16875,) (5625, 57) (5625,)\n"
     ]
    }
   ],
   "source": [
    "x_train ,x_val, y_train ,y_val  = train_test_split(train_x, train_y, random_state = 96, stratify=train_y)\n",
    "col=x_train.columns\n",
    "\n",
    "print(x_train.shape , y_train.shape , x_val.shape , y_val.shape)\n",
    "\n",
    "scaler = StandardScaler()\n",
    "\n",
    "x_train = scaler.fit_transform(x_train)\n",
    "x_val = scaler.transform(x_val)"
   ]
  },
  {
   "cell_type": "markdown",
   "metadata": {},
   "source": [
    "### Bagging"
   ]
  },
  {
   "cell_type": "code",
   "execution_count": 37,
   "metadata": {},
   "outputs": [],
   "source": [
    "from sklearn.ensemble import BaggingClassifier as BC\n",
    "from sklearn.metrics import f1_score"
   ]
  },
  {
   "cell_type": "code",
   "execution_count": 38,
   "metadata": {},
   "outputs": [
    {
     "data": {
      "text/plain": [
       "BaggingClassifier(base_estimator=None, bootstrap=True, bootstrap_features=False,\n",
       "                  max_features=1.0, max_samples=1.0, n_estimators=10,\n",
       "                  n_jobs=None, oob_score=False, random_state=None, verbose=0,\n",
       "                  warm_start=False)"
      ]
     },
     "execution_count": 38,
     "metadata": {},
     "output_type": "execute_result"
    }
   ],
   "source": [
    "bc = BC()\n",
    "bc"
   ]
  },
  {
   "cell_type": "code",
   "execution_count": 39,
   "metadata": {},
   "outputs": [
    {
     "data": {
      "text/plain": [
       "0.9561861047360735"
      ]
     },
     "execution_count": 39,
     "metadata": {},
     "output_type": "execute_result"
    }
   ],
   "source": [
    "bc = BC()\n",
    "bc.fit(train_x, train_y)\n",
    "train_predict = bc.predict(train_x)\n",
    "score1 = f1_score(train_predict, train_y)\n",
    "score1"
   ]
  },
  {
   "cell_type": "code",
   "execution_count": 40,
   "metadata": {},
   "outputs": [
    {
     "data": {
      "text/plain": [
       "0.424003158310304"
      ]
     },
     "execution_count": 40,
     "metadata": {},
     "output_type": "execute_result"
    }
   ],
   "source": [
    "test_predict = bc.predict(test_x)\n",
    "score2 = f1_score(test_predict, test_y)\n",
    "score2"
   ]
  },
  {
   "cell_type": "code",
   "execution_count": 41,
   "metadata": {},
   "outputs": [],
   "source": [
    "percentage = [(i/100) for i in range(1,10)]\n",
    "\n",
    "def max_sample(data):\n",
    "    \n",
    "    multiplied_list = [element * data.shape[0] for element in percentage]\n",
    "    split_list = [math.floor(integer) for integer in multiplied_list]\n",
    "    return(split_list)"
   ]
  },
  {
   "cell_type": "code",
   "execution_count": 42,
   "metadata": {},
   "outputs": [
    {
     "data": {
      "text/plain": [
       "[168, 337, 506, 675, 843, 1012, 1181, 1350, 1518]"
      ]
     },
     "execution_count": 42,
     "metadata": {},
     "output_type": "execute_result"
    }
   ],
   "source": [
    "max_sample(x_train)"
   ]
  },
  {
   "cell_type": "code",
   "execution_count": 44,
   "metadata": {},
   "outputs": [],
   "source": [
    "train_accuracy = []\n",
    "validation_accuracy = []\n",
    "for sample in max_sample(x_train):\n",
    "    bc1 = BC(max_samples = sample, random_state=10)\n",
    "    bc1.fit(x_train, y_train)\n",
    "    pred_train = bc1.predict(x_train)\n",
    "    pred_val = bc1.predict(x_val)\n",
    "    train_accuracy.append(f1_score(pred_train , y_train))\n",
    "    validation_accuracy.append(f1_score(pred_val , y_val))"
   ]
  },
  {
   "cell_type": "code",
   "execution_count": 45,
   "metadata": {},
   "outputs": [
    {
     "data": {
      "text/html": [
       "<div>\n",
       "<style scoped>\n",
       "    .dataframe tbody tr th:only-of-type {\n",
       "        vertical-align: middle;\n",
       "    }\n",
       "\n",
       "    .dataframe tbody tr th {\n",
       "        vertical-align: top;\n",
       "    }\n",
       "\n",
       "    .dataframe thead th {\n",
       "        text-align: right;\n",
       "    }\n",
       "</style>\n",
       "<table border=\"1\" class=\"dataframe\">\n",
       "  <thead>\n",
       "    <tr style=\"text-align: right;\">\n",
       "      <th></th>\n",
       "      <th>percentage of data</th>\n",
       "      <th>max_sample</th>\n",
       "      <th>train_acc</th>\n",
       "      <th>valid_acc</th>\n",
       "    </tr>\n",
       "  </thead>\n",
       "  <tbody>\n",
       "    <tr>\n",
       "      <th>0</th>\n",
       "      <td>1</td>\n",
       "      <td>168</td>\n",
       "      <td>0.436508</td>\n",
       "      <td>0.449001</td>\n",
       "    </tr>\n",
       "    <tr>\n",
       "      <th>1</th>\n",
       "      <td>2</td>\n",
       "      <td>337</td>\n",
       "      <td>0.466375</td>\n",
       "      <td>0.473892</td>\n",
       "    </tr>\n",
       "    <tr>\n",
       "      <th>2</th>\n",
       "      <td>3</td>\n",
       "      <td>506</td>\n",
       "      <td>0.471077</td>\n",
       "      <td>0.439220</td>\n",
       "    </tr>\n",
       "    <tr>\n",
       "      <th>3</th>\n",
       "      <td>4</td>\n",
       "      <td>675</td>\n",
       "      <td>0.455321</td>\n",
       "      <td>0.463710</td>\n",
       "    </tr>\n",
       "    <tr>\n",
       "      <th>4</th>\n",
       "      <td>5</td>\n",
       "      <td>843</td>\n",
       "      <td>0.480965</td>\n",
       "      <td>0.462312</td>\n",
       "    </tr>\n",
       "    <tr>\n",
       "      <th>5</th>\n",
       "      <td>6</td>\n",
       "      <td>1012</td>\n",
       "      <td>0.477996</td>\n",
       "      <td>0.450675</td>\n",
       "    </tr>\n",
       "    <tr>\n",
       "      <th>6</th>\n",
       "      <td>7</td>\n",
       "      <td>1181</td>\n",
       "      <td>0.492245</td>\n",
       "      <td>0.461926</td>\n",
       "    </tr>\n",
       "    <tr>\n",
       "      <th>7</th>\n",
       "      <td>8</td>\n",
       "      <td>1350</td>\n",
       "      <td>0.498271</td>\n",
       "      <td>0.453944</td>\n",
       "    </tr>\n",
       "    <tr>\n",
       "      <th>8</th>\n",
       "      <td>9</td>\n",
       "      <td>1518</td>\n",
       "      <td>0.493094</td>\n",
       "      <td>0.458781</td>\n",
       "    </tr>\n",
       "  </tbody>\n",
       "</table>\n",
       "</div>"
      ],
      "text/plain": [
       "   percentage of data  max_sample  train_acc  valid_acc\n",
       "0                   1         168   0.436508   0.449001\n",
       "1                   2         337   0.466375   0.473892\n",
       "2                   3         506   0.471077   0.439220\n",
       "3                   4         675   0.455321   0.463710\n",
       "4                   5         843   0.480965   0.462312\n",
       "5                   6        1012   0.477996   0.450675\n",
       "6                   7        1181   0.492245   0.461926\n",
       "7                   8        1350   0.498271   0.453944\n",
       "8                   9        1518   0.493094   0.458781"
      ]
     },
     "execution_count": 45,
     "metadata": {},
     "output_type": "execute_result"
    }
   ],
   "source": [
    "frame = pd.DataFrame({'percentage of data' : range(1,10) , 'max_sample':max_sample(x_train), 'train_acc':train_accuracy, 'valid_acc':validation_accuracy})\n",
    "frame"
   ]
  },
  {
   "cell_type": "code",
   "execution_count": 47,
   "metadata": {
    "scrolled": true
   },
   "outputs": [
    {
     "data": {
      "text/plain": [
       "<matplotlib.legend.Legend at 0x1df63d079c8>"
      ]
     },
     "execution_count": 47,
     "metadata": {},
     "output_type": "execute_result"
    },
    {
     "data": {
      "image/png": "[encoded data removed]",
      "text/plain": [
       "<Figure size 1008x432 with 1 Axes>"
      ]
     },
     "metadata": {
      "needs_background": "light"
     },
     "output_type": "display_data"
    }
   ],
   "source": [
    "plt.figure(figsize=(14,6))\n",
    "plt.plot(frame['percentage of data'], frame['train_acc'], marker='o')\n",
    "plt.plot(frame['percentage of data'], frame['valid_acc'], marker='o')\n",
    "plt.xlabel('Max_Sample')\n",
    "plt.ylabel('performance')\n",
    "plt.legend([\"Train\" , \"Valid\"])"
   ]
  },
  {
   "cell_type": "markdown",
   "metadata": {},
   "source": [
    "5 %  = 843 and 7 % = 1181 data is good for sample to be taken when replacing"
   ]
  },
  {
   "cell_type": "code",
   "execution_count": 72,
   "metadata": {},
   "outputs": [
    {
     "data": {
      "text/plain": [
       "(57,)"
      ]
     },
     "execution_count": 72,
     "metadata": {},
     "output_type": "execute_result"
    }
   ],
   "source": [
    "col.shape"
   ]
  },
  {
   "cell_type": "markdown",
   "metadata": {},
   "source": [
    "### Max_Feature tuning"
   ]
  },
  {
   "cell_type": "code",
   "execution_count": 77,
   "metadata": {},
   "outputs": [],
   "source": [
    "train_accuracy = []\n",
    "validation_accuracy = []\n",
    "for feature in range(1,30):\n",
    "    bc1 = BC(max_samples = 1181 , max_features = feature, random_state=10)\n",
    "    bc1.fit(x_train, y_train)\n",
    "    pred_train = bc1.predict(x_train)\n",
    "    pred_val = bc1.predict(x_val)\n",
    "    train_accuracy.append(f1_score(pred_train , y_train))\n",
    "    validation_accuracy.append(f1_score(pred_val , y_val))"
   ]
  },
  {
   "cell_type": "code",
   "execution_count": 78,
   "metadata": {},
   "outputs": [
    {
     "data": {
      "text/html": [
       "<div>\n",
       "<style scoped>\n",
       "    .dataframe tbody tr th:only-of-type {\n",
       "        vertical-align: middle;\n",
       "    }\n",
       "\n",
       "    .dataframe tbody tr th {\n",
       "        vertical-align: top;\n",
       "    }\n",
       "\n",
       "    .dataframe thead th {\n",
       "        text-align: right;\n",
       "    }\n",
       "</style>\n",
       "<table border=\"1\" class=\"dataframe\">\n",
       "  <thead>\n",
       "    <tr style=\"text-align: right;\">\n",
       "      <th></th>\n",
       "      <th>max_features</th>\n",
       "      <th>train_acc</th>\n",
       "      <th>valid_acc</th>\n",
       "    </tr>\n",
       "  </thead>\n",
       "  <tbody>\n",
       "    <tr>\n",
       "      <th>0</th>\n",
       "      <td>1</td>\n",
       "      <td>0.088710</td>\n",
       "      <td>0.065201</td>\n",
       "    </tr>\n",
       "    <tr>\n",
       "      <th>1</th>\n",
       "      <td>2</td>\n",
       "      <td>0.256689</td>\n",
       "      <td>0.192435</td>\n",
       "    </tr>\n",
       "    <tr>\n",
       "      <th>2</th>\n",
       "      <td>3</td>\n",
       "      <td>0.334015</td>\n",
       "      <td>0.282742</td>\n",
       "    </tr>\n",
       "    <tr>\n",
       "      <th>3</th>\n",
       "      <td>4</td>\n",
       "      <td>0.339956</td>\n",
       "      <td>0.255025</td>\n",
       "    </tr>\n",
       "    <tr>\n",
       "      <th>4</th>\n",
       "      <td>5</td>\n",
       "      <td>0.340792</td>\n",
       "      <td>0.265090</td>\n",
       "    </tr>\n",
       "    <tr>\n",
       "      <th>5</th>\n",
       "      <td>6</td>\n",
       "      <td>0.387386</td>\n",
       "      <td>0.335461</td>\n",
       "    </tr>\n",
       "    <tr>\n",
       "      <th>6</th>\n",
       "      <td>7</td>\n",
       "      <td>0.401454</td>\n",
       "      <td>0.349481</td>\n",
       "    </tr>\n",
       "    <tr>\n",
       "      <th>7</th>\n",
       "      <td>8</td>\n",
       "      <td>0.440825</td>\n",
       "      <td>0.394200</td>\n",
       "    </tr>\n",
       "    <tr>\n",
       "      <th>8</th>\n",
       "      <td>9</td>\n",
       "      <td>0.443648</td>\n",
       "      <td>0.397429</td>\n",
       "    </tr>\n",
       "    <tr>\n",
       "      <th>9</th>\n",
       "      <td>10</td>\n",
       "      <td>0.454902</td>\n",
       "      <td>0.392665</td>\n",
       "    </tr>\n",
       "    <tr>\n",
       "      <th>10</th>\n",
       "      <td>11</td>\n",
       "      <td>0.459889</td>\n",
       "      <td>0.391188</td>\n",
       "    </tr>\n",
       "    <tr>\n",
       "      <th>11</th>\n",
       "      <td>12</td>\n",
       "      <td>0.459972</td>\n",
       "      <td>0.401471</td>\n",
       "    </tr>\n",
       "    <tr>\n",
       "      <th>12</th>\n",
       "      <td>13</td>\n",
       "      <td>0.462621</td>\n",
       "      <td>0.407349</td>\n",
       "    </tr>\n",
       "    <tr>\n",
       "      <th>13</th>\n",
       "      <td>14</td>\n",
       "      <td>0.455273</td>\n",
       "      <td>0.402503</td>\n",
       "    </tr>\n",
       "    <tr>\n",
       "      <th>14</th>\n",
       "      <td>15</td>\n",
       "      <td>0.453037</td>\n",
       "      <td>0.412863</td>\n",
       "    </tr>\n",
       "    <tr>\n",
       "      <th>15</th>\n",
       "      <td>16</td>\n",
       "      <td>0.457293</td>\n",
       "      <td>0.407292</td>\n",
       "    </tr>\n",
       "    <tr>\n",
       "      <th>16</th>\n",
       "      <td>17</td>\n",
       "      <td>0.447293</td>\n",
       "      <td>0.403361</td>\n",
       "    </tr>\n",
       "    <tr>\n",
       "      <th>17</th>\n",
       "      <td>18</td>\n",
       "      <td>0.459160</td>\n",
       "      <td>0.420725</td>\n",
       "    </tr>\n",
       "    <tr>\n",
       "      <th>18</th>\n",
       "      <td>19</td>\n",
       "      <td>0.461294</td>\n",
       "      <td>0.423890</td>\n",
       "    </tr>\n",
       "    <tr>\n",
       "      <th>19</th>\n",
       "      <td>20</td>\n",
       "      <td>0.464279</td>\n",
       "      <td>0.418968</td>\n",
       "    </tr>\n",
       "    <tr>\n",
       "      <th>20</th>\n",
       "      <td>21</td>\n",
       "      <td>0.450399</td>\n",
       "      <td>0.412198</td>\n",
       "    </tr>\n",
       "    <tr>\n",
       "      <th>21</th>\n",
       "      <td>22</td>\n",
       "      <td>0.453197</td>\n",
       "      <td>0.415883</td>\n",
       "    </tr>\n",
       "    <tr>\n",
       "      <th>22</th>\n",
       "      <td>23</td>\n",
       "      <td>0.460025</td>\n",
       "      <td>0.421605</td>\n",
       "    </tr>\n",
       "    <tr>\n",
       "      <th>23</th>\n",
       "      <td>24</td>\n",
       "      <td>0.458592</td>\n",
       "      <td>0.415925</td>\n",
       "    </tr>\n",
       "    <tr>\n",
       "      <th>24</th>\n",
       "      <td>25</td>\n",
       "      <td>0.468197</td>\n",
       "      <td>0.435451</td>\n",
       "    </tr>\n",
       "    <tr>\n",
       "      <th>25</th>\n",
       "      <td>26</td>\n",
       "      <td>0.461620</td>\n",
       "      <td>0.423197</td>\n",
       "    </tr>\n",
       "    <tr>\n",
       "      <th>26</th>\n",
       "      <td>27</td>\n",
       "      <td>0.464028</td>\n",
       "      <td>0.426873</td>\n",
       "    </tr>\n",
       "    <tr>\n",
       "      <th>27</th>\n",
       "      <td>28</td>\n",
       "      <td>0.462002</td>\n",
       "      <td>0.421488</td>\n",
       "    </tr>\n",
       "    <tr>\n",
       "      <th>28</th>\n",
       "      <td>29</td>\n",
       "      <td>0.452777</td>\n",
       "      <td>0.423493</td>\n",
       "    </tr>\n",
       "  </tbody>\n",
       "</table>\n",
       "</div>"
      ],
      "text/plain": [
       "    max_features  train_acc  valid_acc\n",
       "0              1   0.088710   0.065201\n",
       "1              2   0.256689   0.192435\n",
       "2              3   0.334015   0.282742\n",
       "3              4   0.339956   0.255025\n",
       "4              5   0.340792   0.265090\n",
       "5              6   0.387386   0.335461\n",
       "6              7   0.401454   0.349481\n",
       "7              8   0.440825   0.394200\n",
       "8              9   0.443648   0.397429\n",
       "9             10   0.454902   0.392665\n",
       "10            11   0.459889   0.391188\n",
       "11            12   0.459972   0.401471\n",
       "12            13   0.462621   0.407349\n",
       "13            14   0.455273   0.402503\n",
       "14            15   0.453037   0.412863\n",
       "15            16   0.457293   0.407292\n",
       "16            17   0.447293   0.403361\n",
       "17            18   0.459160   0.420725\n",
       "18            19   0.461294   0.423890\n",
       "19            20   0.464279   0.418968\n",
       "20            21   0.450399   0.412198\n",
       "21            22   0.453197   0.415883\n",
       "22            23   0.460025   0.421605\n",
       "23            24   0.458592   0.415925\n",
       "24            25   0.468197   0.435451\n",
       "25            26   0.461620   0.423197\n",
       "26            27   0.464028   0.426873\n",
       "27            28   0.462002   0.421488\n",
       "28            29   0.452777   0.423493"
      ]
     },
     "execution_count": 78,
     "metadata": {},
     "output_type": "execute_result"
    }
   ],
   "source": [
    "frame = pd.DataFrame({'max_features':range(1,30), 'train_acc':train_accuracy, 'valid_acc':validation_accuracy})\n",
    "frame"
   ]
  },
  {
   "cell_type": "code",
   "execution_count": 79,
   "metadata": {},
   "outputs": [
    {
     "data": {
      "text/plain": [
       "<matplotlib.legend.Legend at 0x1df6390edc8>"
      ]
     },
     "execution_count": 79,
     "metadata": {},
     "output_type": "execute_result"
    },
    {
     "data": {
      "image/png": "[encoded data removed]",
      "text/plain": [
       "<Figure size 1008x432 with 1 Axes>"
      ]
     },
     "metadata": {
      "needs_background": "light"
     },
     "output_type": "display_data"
    }
   ],
   "source": [
    "plt.figure(figsize=(14,6))\n",
    "plt.plot(frame['max_features'], frame['train_acc'], marker='o')\n",
    "plt.plot(frame['max_features'], frame['valid_acc'], marker='o')\n",
    "plt.xlabel('Max_features')\n",
    "plt.ylabel('performance')\n",
    "plt.legend([\"Train\" , \"Valid\"])"
   ]
  },
  {
   "cell_type": "code",
   "execution_count": 80,
   "metadata": {
    "collapsed": true
   },
   "outputs": [
    {
     "data": {
      "text/html": [
       "<div>\n",
       "<style scoped>\n",
       "    .dataframe tbody tr th:only-of-type {\n",
       "        vertical-align: middle;\n",
       "    }\n",
       "\n",
       "    .dataframe tbody tr th {\n",
       "        vertical-align: top;\n",
       "    }\n",
       "\n",
       "    .dataframe thead th {\n",
       "        text-align: right;\n",
       "    }\n",
       "</style>\n",
       "<table border=\"1\" class=\"dataframe\">\n",
       "  <thead>\n",
       "    <tr style=\"text-align: right;\">\n",
       "      <th></th>\n",
       "      <th>max_features</th>\n",
       "      <th>train_acc</th>\n",
       "      <th>valid_acc</th>\n",
       "    </tr>\n",
       "  </thead>\n",
       "  <tbody>\n",
       "    <tr>\n",
       "      <th>0</th>\n",
       "      <td>1</td>\n",
       "      <td>0.017300</td>\n",
       "      <td>0.012608</td>\n",
       "    </tr>\n",
       "    <tr>\n",
       "      <th>1</th>\n",
       "      <td>2</td>\n",
       "      <td>0.148977</td>\n",
       "      <td>0.095930</td>\n",
       "    </tr>\n",
       "    <tr>\n",
       "      <th>2</th>\n",
       "      <td>3</td>\n",
       "      <td>0.248723</td>\n",
       "      <td>0.166554</td>\n",
       "    </tr>\n",
       "    <tr>\n",
       "      <th>3</th>\n",
       "      <td>4</td>\n",
       "      <td>0.261475</td>\n",
       "      <td>0.177601</td>\n",
       "    </tr>\n",
       "    <tr>\n",
       "      <th>4</th>\n",
       "      <td>5</td>\n",
       "      <td>0.305803</td>\n",
       "      <td>0.233987</td>\n",
       "    </tr>\n",
       "    <tr>\n",
       "      <th>5</th>\n",
       "      <td>6</td>\n",
       "      <td>0.337646</td>\n",
       "      <td>0.278899</td>\n",
       "    </tr>\n",
       "    <tr>\n",
       "      <th>6</th>\n",
       "      <td>7</td>\n",
       "      <td>0.342623</td>\n",
       "      <td>0.263390</td>\n",
       "    </tr>\n",
       "    <tr>\n",
       "      <th>7</th>\n",
       "      <td>8</td>\n",
       "      <td>0.345834</td>\n",
       "      <td>0.281095</td>\n",
       "    </tr>\n",
       "    <tr>\n",
       "      <th>8</th>\n",
       "      <td>9</td>\n",
       "      <td>0.355289</td>\n",
       "      <td>0.290598</td>\n",
       "    </tr>\n",
       "    <tr>\n",
       "      <th>9</th>\n",
       "      <td>10</td>\n",
       "      <td>0.364905</td>\n",
       "      <td>0.311515</td>\n",
       "    </tr>\n",
       "    <tr>\n",
       "      <th>10</th>\n",
       "      <td>11</td>\n",
       "      <td>0.381682</td>\n",
       "      <td>0.314970</td>\n",
       "    </tr>\n",
       "    <tr>\n",
       "      <th>11</th>\n",
       "      <td>12</td>\n",
       "      <td>0.402974</td>\n",
       "      <td>0.352260</td>\n",
       "    </tr>\n",
       "    <tr>\n",
       "      <th>12</th>\n",
       "      <td>13</td>\n",
       "      <td>0.443958</td>\n",
       "      <td>0.390137</td>\n",
       "    </tr>\n",
       "    <tr>\n",
       "      <th>13</th>\n",
       "      <td>14</td>\n",
       "      <td>0.435292</td>\n",
       "      <td>0.403919</td>\n",
       "    </tr>\n",
       "    <tr>\n",
       "      <th>14</th>\n",
       "      <td>15</td>\n",
       "      <td>0.443472</td>\n",
       "      <td>0.400867</td>\n",
       "    </tr>\n",
       "    <tr>\n",
       "      <th>15</th>\n",
       "      <td>16</td>\n",
       "      <td>0.469849</td>\n",
       "      <td>0.423404</td>\n",
       "    </tr>\n",
       "    <tr>\n",
       "      <th>16</th>\n",
       "      <td>17</td>\n",
       "      <td>0.477003</td>\n",
       "      <td>0.442857</td>\n",
       "    </tr>\n",
       "    <tr>\n",
       "      <th>17</th>\n",
       "      <td>18</td>\n",
       "      <td>0.481714</td>\n",
       "      <td>0.416624</td>\n",
       "    </tr>\n",
       "    <tr>\n",
       "      <th>18</th>\n",
       "      <td>19</td>\n",
       "      <td>0.479536</td>\n",
       "      <td>0.431106</td>\n",
       "    </tr>\n",
       "    <tr>\n",
       "      <th>19</th>\n",
       "      <td>20</td>\n",
       "      <td>0.474815</td>\n",
       "      <td>0.430548</td>\n",
       "    </tr>\n",
       "    <tr>\n",
       "      <th>20</th>\n",
       "      <td>21</td>\n",
       "      <td>0.483566</td>\n",
       "      <td>0.441451</td>\n",
       "    </tr>\n",
       "    <tr>\n",
       "      <th>21</th>\n",
       "      <td>22</td>\n",
       "      <td>0.477304</td>\n",
       "      <td>0.429384</td>\n",
       "    </tr>\n",
       "    <tr>\n",
       "      <th>22</th>\n",
       "      <td>23</td>\n",
       "      <td>0.473629</td>\n",
       "      <td>0.434244</td>\n",
       "    </tr>\n",
       "    <tr>\n",
       "      <th>23</th>\n",
       "      <td>24</td>\n",
       "      <td>0.475109</td>\n",
       "      <td>0.444904</td>\n",
       "    </tr>\n",
       "    <tr>\n",
       "      <th>24</th>\n",
       "      <td>25</td>\n",
       "      <td>0.485856</td>\n",
       "      <td>0.438134</td>\n",
       "    </tr>\n",
       "    <tr>\n",
       "      <th>25</th>\n",
       "      <td>26</td>\n",
       "      <td>0.485120</td>\n",
       "      <td>0.434783</td>\n",
       "    </tr>\n",
       "    <tr>\n",
       "      <th>26</th>\n",
       "      <td>27</td>\n",
       "      <td>0.477658</td>\n",
       "      <td>0.432767</td>\n",
       "    </tr>\n",
       "    <tr>\n",
       "      <th>27</th>\n",
       "      <td>28</td>\n",
       "      <td>0.478707</td>\n",
       "      <td>0.439300</td>\n",
       "    </tr>\n",
       "    <tr>\n",
       "      <th>28</th>\n",
       "      <td>29</td>\n",
       "      <td>0.487545</td>\n",
       "      <td>0.447167</td>\n",
       "    </tr>\n",
       "  </tbody>\n",
       "</table>\n",
       "</div>"
      ],
      "text/plain": [
       "    max_features  train_acc  valid_acc\n",
       "0              1   0.017300   0.012608\n",
       "1              2   0.148977   0.095930\n",
       "2              3   0.248723   0.166554\n",
       "3              4   0.261475   0.177601\n",
       "4              5   0.305803   0.233987\n",
       "5              6   0.337646   0.278899\n",
       "6              7   0.342623   0.263390\n",
       "7              8   0.345834   0.281095\n",
       "8              9   0.355289   0.290598\n",
       "9             10   0.364905   0.311515\n",
       "10            11   0.381682   0.314970\n",
       "11            12   0.402974   0.352260\n",
       "12            13   0.443958   0.390137\n",
       "13            14   0.435292   0.403919\n",
       "14            15   0.443472   0.400867\n",
       "15            16   0.469849   0.423404\n",
       "16            17   0.477003   0.442857\n",
       "17            18   0.481714   0.416624\n",
       "18            19   0.479536   0.431106\n",
       "19            20   0.474815   0.430548\n",
       "20            21   0.483566   0.441451\n",
       "21            22   0.477304   0.429384\n",
       "22            23   0.473629   0.434244\n",
       "23            24   0.475109   0.444904\n",
       "24            25   0.485856   0.438134\n",
       "25            26   0.485120   0.434783\n",
       "26            27   0.477658   0.432767\n",
       "27            28   0.478707   0.439300\n",
       "28            29   0.487545   0.447167"
      ]
     },
     "execution_count": 80,
     "metadata": {},
     "output_type": "execute_result"
    }
   ],
   "source": [
    "train_accuracy = []\n",
    "validation_accuracy = []\n",
    "for feature in range(1,30):\n",
    "    bc1 = BC(max_samples = 1181 , bootstrap_features = True , max_features = feature, random_state=10)\n",
    "    bc1.fit(x_train, y_train)\n",
    "    pred_train = bc1.predict(x_train)\n",
    "    pred_val = bc1.predict(x_val)\n",
    "    train_accuracy.append(f1_score(pred_train , y_train))\n",
    "    validation_accuracy.append(f1_score(pred_val , y_val))\n",
    "\n",
    "frame = pd.DataFrame({'max_features':range(1,30), 'train_acc':train_accuracy, 'valid_acc':validation_accuracy})\n",
    "frame"
   ]
  },
  {
   "cell_type": "code",
   "execution_count": 81,
   "metadata": {},
   "outputs": [
    {
     "data": {
      "text/plain": [
       "<matplotlib.legend.Legend at 0x1df638e8348>"
      ]
     },
     "execution_count": 81,
     "metadata": {},
     "output_type": "execute_result"
    },
    {
     "data": {
      "image/png": "[encoded data removed]",
      "text/plain": [
       "<Figure size 1008x432 with 1 Axes>"
      ]
     },
     "metadata": {
      "needs_background": "light"
     },
     "output_type": "display_data"
    }
   ],
   "source": [
    "plt.figure(figsize=(14,6))\n",
    "plt.plot(frame['max_features'], frame['train_acc'], marker='o')\n",
    "plt.plot(frame['max_features'], frame['valid_acc'], marker='o')\n",
    "plt.xlabel('Max_features')\n",
    "plt.ylabel('performance')\n",
    "plt.legend([\"Train\" , \"Valid\"])"
   ]
  },
  {
   "cell_type": "markdown",
   "metadata": {},
   "source": [
    "#### At 17 max_features with boot_starp = True is best"
   ]
  },
  {
   "cell_type": "code",
   "execution_count": 83,
   "metadata": {},
   "outputs": [
    {
     "data": {
      "text/plain": [
       "(0.4770034843205575, 0.4428571428571429)"
      ]
     },
     "execution_count": 83,
     "metadata": {},
     "output_type": "execute_result"
    }
   ],
   "source": [
    "bc1 = BC(max_samples = 1181 , bootstrap_features = True , max_features = 17, random_state=10)\n",
    "\n",
    "#fitting the model\n",
    "bc1.fit(x_train, y_train)\n",
    "pred_train = bc1.predict(x_train)\n",
    "pred_val = bc1.predict(x_val)\n",
    "\n",
    "from sklearn.metrics import f1_score\n",
    "score1 = f1_score(pred_train, y_train)\n",
    "score2 = f1_score(pred_val, y_val)\n",
    "score1 , score2"
   ]
  },
  {
   "cell_type": "code",
   "execution_count": 84,
   "metadata": {},
   "outputs": [],
   "source": [
    "### Changing Base_estimator"
   ]
  },
  {
   "cell_type": "code",
   "execution_count": 87,
   "metadata": {},
   "outputs": [],
   "source": [
    "from sklearn.tree import DecisionTreeClassifier"
   ]
  },
  {
   "cell_type": "code",
   "execution_count": 88,
   "metadata": {},
   "outputs": [],
   "source": [
    "dt = DecisionTreeClassifier(class_weight=\"balanced\",min_samples_leaf = 337 , min_samples_split = 506 , max_depth = 6 , random_state=10)"
   ]
  },
  {
   "cell_type": "code",
   "execution_count": 90,
   "metadata": {},
   "outputs": [
    {
     "data": {
      "text/plain": [
       "(0.5374469036440868, 0.5382323733862959)"
      ]
     },
     "execution_count": 90,
     "metadata": {},
     "output_type": "execute_result"
    }
   ],
   "source": [
    "bc1 = BC(base_estimator = dt , random_state=10)\n",
    "\n",
    "#fitting the model\n",
    "bc1.fit(x_train, y_train)\n",
    "pred_train = bc1.predict(x_train)\n",
    "pred_val = bc1.predict(x_val)\n",
    "\n",
    "from sklearn.metrics import f1_score\n",
    "score1 = f1_score(pred_train, y_train)\n",
    "score2 = f1_score(pred_val, y_val)\n",
    "score1 , score2"
   ]
  },
  {
   "cell_type": "code",
   "execution_count": 91,
   "metadata": {},
   "outputs": [],
   "source": [
    "percentage = [(i/100) for i in range(1,10)]\n",
    "\n",
    "def max_sample(data):\n",
    "    \n",
    "    multiplied_list = [element * data.shape[0] for element in percentage]\n",
    "    split_list = [math.floor(integer) for integer in multiplied_list]\n",
    "    return(split_list)"
   ]
  },
  {
   "cell_type": "code",
   "execution_count": 92,
   "metadata": {},
   "outputs": [
    {
     "data": {
      "text/plain": [
       "[168, 337, 506, 675, 843, 1012, 1181, 1350, 1518]"
      ]
     },
     "execution_count": 92,
     "metadata": {},
     "output_type": "execute_result"
    }
   ],
   "source": [
    "max_sample(x_train)"
   ]
  },
  {
   "cell_type": "code",
   "execution_count": 93,
   "metadata": {},
   "outputs": [],
   "source": [
    "train_accuracy = []\n",
    "validation_accuracy = []\n",
    "for sample in max_sample(x_train):\n",
    "    bc1 = BC(base_estimator = dt , max_samples = sample, random_state=10)\n",
    "    bc1.fit(x_train, y_train)\n",
    "    pred_train = bc1.predict(x_train)\n",
    "    pred_val = bc1.predict(x_val)\n",
    "    train_accuracy.append(f1_score(pred_train , y_train))\n",
    "    validation_accuracy.append(f1_score(pred_val , y_val))"
   ]
  },
  {
   "cell_type": "code",
   "execution_count": 94,
   "metadata": {
    "scrolled": true
   },
   "outputs": [
    {
     "data": {
      "text/html": [
       "<div>\n",
       "<style scoped>\n",
       "    .dataframe tbody tr th:only-of-type {\n",
       "        vertical-align: middle;\n",
       "    }\n",
       "\n",
       "    .dataframe tbody tr th {\n",
       "        vertical-align: top;\n",
       "    }\n",
       "\n",
       "    .dataframe thead th {\n",
       "        text-align: right;\n",
       "    }\n",
       "</style>\n",
       "<table border=\"1\" class=\"dataframe\">\n",
       "  <thead>\n",
       "    <tr style=\"text-align: right;\">\n",
       "      <th></th>\n",
       "      <th>percentage of data</th>\n",
       "      <th>max_sample</th>\n",
       "      <th>train_acc</th>\n",
       "      <th>valid_acc</th>\n",
       "    </tr>\n",
       "  </thead>\n",
       "  <tbody>\n",
       "    <tr>\n",
       "      <th>0</th>\n",
       "      <td>1</td>\n",
       "      <td>168</td>\n",
       "      <td>0.362286</td>\n",
       "      <td>0.362207</td>\n",
       "    </tr>\n",
       "    <tr>\n",
       "      <th>1</th>\n",
       "      <td>2</td>\n",
       "      <td>337</td>\n",
       "      <td>0.362286</td>\n",
       "      <td>0.362207</td>\n",
       "    </tr>\n",
       "    <tr>\n",
       "      <th>2</th>\n",
       "      <td>3</td>\n",
       "      <td>506</td>\n",
       "      <td>0.362286</td>\n",
       "      <td>0.362207</td>\n",
       "    </tr>\n",
       "    <tr>\n",
       "      <th>3</th>\n",
       "      <td>4</td>\n",
       "      <td>675</td>\n",
       "      <td>0.362286</td>\n",
       "      <td>0.362207</td>\n",
       "    </tr>\n",
       "    <tr>\n",
       "      <th>4</th>\n",
       "      <td>5</td>\n",
       "      <td>843</td>\n",
       "      <td>0.400674</td>\n",
       "      <td>0.406523</td>\n",
       "    </tr>\n",
       "    <tr>\n",
       "      <th>5</th>\n",
       "      <td>6</td>\n",
       "      <td>1012</td>\n",
       "      <td>0.405828</td>\n",
       "      <td>0.400163</td>\n",
       "    </tr>\n",
       "    <tr>\n",
       "      <th>6</th>\n",
       "      <td>7</td>\n",
       "      <td>1181</td>\n",
       "      <td>0.429207</td>\n",
       "      <td>0.427232</td>\n",
       "    </tr>\n",
       "    <tr>\n",
       "      <th>7</th>\n",
       "      <td>8</td>\n",
       "      <td>1350</td>\n",
       "      <td>0.512933</td>\n",
       "      <td>0.522578</td>\n",
       "    </tr>\n",
       "    <tr>\n",
       "      <th>8</th>\n",
       "      <td>9</td>\n",
       "      <td>1518</td>\n",
       "      <td>0.519765</td>\n",
       "      <td>0.529551</td>\n",
       "    </tr>\n",
       "  </tbody>\n",
       "</table>\n",
       "</div>"
      ],
      "text/plain": [
       "   percentage of data  max_sample  train_acc  valid_acc\n",
       "0                   1         168   0.362286   0.362207\n",
       "1                   2         337   0.362286   0.362207\n",
       "2                   3         506   0.362286   0.362207\n",
       "3                   4         675   0.362286   0.362207\n",
       "4                   5         843   0.400674   0.406523\n",
       "5                   6        1012   0.405828   0.400163\n",
       "6                   7        1181   0.429207   0.427232\n",
       "7                   8        1350   0.512933   0.522578\n",
       "8                   9        1518   0.519765   0.529551"
      ]
     },
     "execution_count": 94,
     "metadata": {},
     "output_type": "execute_result"
    }
   ],
   "source": [
    "frame = pd.DataFrame({'percentage of data' : range(1,10) , 'max_sample':max_sample(x_train), 'train_acc':train_accuracy, 'valid_acc':validation_accuracy})\n",
    "frame"
   ]
  },
  {
   "cell_type": "code",
   "execution_count": 95,
   "metadata": {
    "scrolled": false
   },
   "outputs": [
    {
     "data": {
      "text/plain": [
       "<matplotlib.legend.Legend at 0x1df67fe3f08>"
      ]
     },
     "execution_count": 95,
     "metadata": {},
     "output_type": "execute_result"
    },
    {
     "data": {
      "image/png": "[encoded data removed]",
      "text/plain": [
       "<Figure size 1008x432 with 1 Axes>"
      ]
     },
     "metadata": {
      "needs_background": "light"
     },
     "output_type": "display_data"
    }
   ],
   "source": [
    "plt.figure(figsize=(14,6))\n",
    "plt.plot(frame['percentage of data'], frame['train_acc'], marker='o')\n",
    "plt.plot(frame['percentage of data'], frame['valid_acc'], marker='o')\n",
    "plt.xlabel('Max_Sample')\n",
    "plt.ylabel('performance')\n",
    "plt.legend([\"Train\" , \"Valid\"])"
   ]
  },
  {
   "cell_type": "code",
   "execution_count": 96,
   "metadata": {},
   "outputs": [],
   "source": [
    "percentage = [(i/100) for i in range(1,20)]\n",
    "\n",
    "def max_sample(data):\n",
    "    \n",
    "    multiplied_list = [element * data.shape[0] for element in percentage]\n",
    "    split_list = [math.floor(integer) for integer in multiplied_list]\n",
    "    return(split_list)"
   ]
  },
  {
   "cell_type": "code",
   "execution_count": 98,
   "metadata": {},
   "outputs": [],
   "source": [
    "train_accuracy = []\n",
    "validation_accuracy = []\n",
    "for sample in max_sample(x_train):\n",
    "    bc1 = BC(base_estimator = dt , max_samples = sample, random_state=10)\n",
    "    bc1.fit(x_train, y_train)\n",
    "    pred_train = bc1.predict(x_train)\n",
    "    pred_val = bc1.predict(x_val)\n",
    "    train_accuracy.append(f1_score(pred_train , y_train))\n",
    "    validation_accuracy.append(f1_score(pred_val , y_val))"
   ]
  },
  {
   "cell_type": "code",
   "execution_count": 99,
   "metadata": {},
   "outputs": [
    {
     "data": {
      "text/html": [
       "<div>\n",
       "<style scoped>\n",
       "    .dataframe tbody tr th:only-of-type {\n",
       "        vertical-align: middle;\n",
       "    }\n",
       "\n",
       "    .dataframe tbody tr th {\n",
       "        vertical-align: top;\n",
       "    }\n",
       "\n",
       "    .dataframe thead th {\n",
       "        text-align: right;\n",
       "    }\n",
       "</style>\n",
       "<table border=\"1\" class=\"dataframe\">\n",
       "  <thead>\n",
       "    <tr style=\"text-align: right;\">\n",
       "      <th></th>\n",
       "      <th>percentage of data</th>\n",
       "      <th>max_sample</th>\n",
       "      <th>train_acc</th>\n",
       "      <th>valid_acc</th>\n",
       "    </tr>\n",
       "  </thead>\n",
       "  <tbody>\n",
       "    <tr>\n",
       "      <th>0</th>\n",
       "      <td>1</td>\n",
       "      <td>168</td>\n",
       "      <td>0.362286</td>\n",
       "      <td>0.362207</td>\n",
       "    </tr>\n",
       "    <tr>\n",
       "      <th>1</th>\n",
       "      <td>2</td>\n",
       "      <td>337</td>\n",
       "      <td>0.362286</td>\n",
       "      <td>0.362207</td>\n",
       "    </tr>\n",
       "    <tr>\n",
       "      <th>2</th>\n",
       "      <td>3</td>\n",
       "      <td>506</td>\n",
       "      <td>0.362286</td>\n",
       "      <td>0.362207</td>\n",
       "    </tr>\n",
       "    <tr>\n",
       "      <th>3</th>\n",
       "      <td>4</td>\n",
       "      <td>675</td>\n",
       "      <td>0.362286</td>\n",
       "      <td>0.362207</td>\n",
       "    </tr>\n",
       "    <tr>\n",
       "      <th>4</th>\n",
       "      <td>5</td>\n",
       "      <td>843</td>\n",
       "      <td>0.400674</td>\n",
       "      <td>0.406523</td>\n",
       "    </tr>\n",
       "    <tr>\n",
       "      <th>5</th>\n",
       "      <td>6</td>\n",
       "      <td>1012</td>\n",
       "      <td>0.405828</td>\n",
       "      <td>0.400163</td>\n",
       "    </tr>\n",
       "    <tr>\n",
       "      <th>6</th>\n",
       "      <td>7</td>\n",
       "      <td>1181</td>\n",
       "      <td>0.429207</td>\n",
       "      <td>0.427232</td>\n",
       "    </tr>\n",
       "    <tr>\n",
       "      <th>7</th>\n",
       "      <td>8</td>\n",
       "      <td>1350</td>\n",
       "      <td>0.512933</td>\n",
       "      <td>0.522578</td>\n",
       "    </tr>\n",
       "    <tr>\n",
       "      <th>8</th>\n",
       "      <td>9</td>\n",
       "      <td>1518</td>\n",
       "      <td>0.519765</td>\n",
       "      <td>0.529551</td>\n",
       "    </tr>\n",
       "    <tr>\n",
       "      <th>9</th>\n",
       "      <td>10</td>\n",
       "      <td>1687</td>\n",
       "      <td>0.513998</td>\n",
       "      <td>0.530612</td>\n",
       "    </tr>\n",
       "    <tr>\n",
       "      <th>10</th>\n",
       "      <td>11</td>\n",
       "      <td>1856</td>\n",
       "      <td>0.511808</td>\n",
       "      <td>0.525136</td>\n",
       "    </tr>\n",
       "    <tr>\n",
       "      <th>11</th>\n",
       "      <td>12</td>\n",
       "      <td>2025</td>\n",
       "      <td>0.514671</td>\n",
       "      <td>0.527741</td>\n",
       "    </tr>\n",
       "    <tr>\n",
       "      <th>12</th>\n",
       "      <td>13</td>\n",
       "      <td>2193</td>\n",
       "      <td>0.515592</td>\n",
       "      <td>0.529801</td>\n",
       "    </tr>\n",
       "    <tr>\n",
       "      <th>13</th>\n",
       "      <td>14</td>\n",
       "      <td>2362</td>\n",
       "      <td>0.515940</td>\n",
       "      <td>0.528339</td>\n",
       "    </tr>\n",
       "    <tr>\n",
       "      <th>14</th>\n",
       "      <td>15</td>\n",
       "      <td>2531</td>\n",
       "      <td>0.518140</td>\n",
       "      <td>0.530313</td>\n",
       "    </tr>\n",
       "    <tr>\n",
       "      <th>15</th>\n",
       "      <td>16</td>\n",
       "      <td>2700</td>\n",
       "      <td>0.513330</td>\n",
       "      <td>0.525972</td>\n",
       "    </tr>\n",
       "    <tr>\n",
       "      <th>16</th>\n",
       "      <td>17</td>\n",
       "      <td>2868</td>\n",
       "      <td>0.515653</td>\n",
       "      <td>0.531929</td>\n",
       "    </tr>\n",
       "    <tr>\n",
       "      <th>17</th>\n",
       "      <td>18</td>\n",
       "      <td>3037</td>\n",
       "      <td>0.518265</td>\n",
       "      <td>0.533463</td>\n",
       "    </tr>\n",
       "    <tr>\n",
       "      <th>18</th>\n",
       "      <td>19</td>\n",
       "      <td>3206</td>\n",
       "      <td>0.518746</td>\n",
       "      <td>0.535876</td>\n",
       "    </tr>\n",
       "  </tbody>\n",
       "</table>\n",
       "</div>"
      ],
      "text/plain": [
       "    percentage of data  max_sample  train_acc  valid_acc\n",
       "0                    1         168   0.362286   0.362207\n",
       "1                    2         337   0.362286   0.362207\n",
       "2                    3         506   0.362286   0.362207\n",
       "3                    4         675   0.362286   0.362207\n",
       "4                    5         843   0.400674   0.406523\n",
       "5                    6        1012   0.405828   0.400163\n",
       "6                    7        1181   0.429207   0.427232\n",
       "7                    8        1350   0.512933   0.522578\n",
       "8                    9        1518   0.519765   0.529551\n",
       "9                   10        1687   0.513998   0.530612\n",
       "10                  11        1856   0.511808   0.525136\n",
       "11                  12        2025   0.514671   0.527741\n",
       "12                  13        2193   0.515592   0.529801\n",
       "13                  14        2362   0.515940   0.528339\n",
       "14                  15        2531   0.518140   0.530313\n",
       "15                  16        2700   0.513330   0.525972\n",
       "16                  17        2868   0.515653   0.531929\n",
       "17                  18        3037   0.518265   0.533463\n",
       "18                  19        3206   0.518746   0.535876"
      ]
     },
     "execution_count": 99,
     "metadata": {},
     "output_type": "execute_result"
    }
   ],
   "source": [
    "frame = pd.DataFrame({'percentage of data' : range(1,20) , 'max_sample':max_sample(x_train), 'train_acc':train_accuracy, 'valid_acc':validation_accuracy})\n",
    "frame"
   ]
  },
  {
   "cell_type": "markdown",
   "metadata": {},
   "source": [
    "### Max_Feature tuning"
   ]
  },
  {
   "cell_type": "code",
   "execution_count": 100,
   "metadata": {},
   "outputs": [],
   "source": [
    "train_accuracy = []\n",
    "validation_accuracy = []\n",
    "for feature in range(1,30):\n",
    "    bc1 = BC(max_features = feature, random_state=10)\n",
    "    bc1.fit(x_train, y_train)\n",
    "    pred_train = bc1.predict(x_train)\n",
    "    pred_val = bc1.predict(x_val)\n",
    "    train_accuracy.append(f1_score(pred_train , y_train))\n",
    "    validation_accuracy.append(f1_score(pred_val , y_val))"
   ]
  },
  {
   "cell_type": "code",
   "execution_count": 101,
   "metadata": {},
   "outputs": [
    {
     "data": {
      "text/html": [
       "<div>\n",
       "<style scoped>\n",
       "    .dataframe tbody tr th:only-of-type {\n",
       "        vertical-align: middle;\n",
       "    }\n",
       "\n",
       "    .dataframe tbody tr th {\n",
       "        vertical-align: top;\n",
       "    }\n",
       "\n",
       "    .dataframe thead th {\n",
       "        text-align: right;\n",
       "    }\n",
       "</style>\n",
       "<table border=\"1\" class=\"dataframe\">\n",
       "  <thead>\n",
       "    <tr style=\"text-align: right;\">\n",
       "      <th></th>\n",
       "      <th>max_features</th>\n",
       "      <th>train_acc</th>\n",
       "      <th>valid_acc</th>\n",
       "    </tr>\n",
       "  </thead>\n",
       "  <tbody>\n",
       "    <tr>\n",
       "      <th>0</th>\n",
       "      <td>1</td>\n",
       "      <td>0.551791</td>\n",
       "      <td>0.034215</td>\n",
       "    </tr>\n",
       "    <tr>\n",
       "      <th>1</th>\n",
       "      <td>2</td>\n",
       "      <td>0.808964</td>\n",
       "      <td>0.168421</td>\n",
       "    </tr>\n",
       "    <tr>\n",
       "      <th>2</th>\n",
       "      <td>3</td>\n",
       "      <td>0.836886</td>\n",
       "      <td>0.278239</td>\n",
       "    </tr>\n",
       "    <tr>\n",
       "      <th>3</th>\n",
       "      <td>4</td>\n",
       "      <td>0.899912</td>\n",
       "      <td>0.305022</td>\n",
       "    </tr>\n",
       "    <tr>\n",
       "      <th>4</th>\n",
       "      <td>5</td>\n",
       "      <td>0.929907</td>\n",
       "      <td>0.261307</td>\n",
       "    </tr>\n",
       "    <tr>\n",
       "      <th>5</th>\n",
       "      <td>6</td>\n",
       "      <td>0.939145</td>\n",
       "      <td>0.327791</td>\n",
       "    </tr>\n",
       "    <tr>\n",
       "      <th>6</th>\n",
       "      <td>7</td>\n",
       "      <td>0.940379</td>\n",
       "      <td>0.331770</td>\n",
       "    </tr>\n",
       "    <tr>\n",
       "      <th>7</th>\n",
       "      <td>8</td>\n",
       "      <td>0.939796</td>\n",
       "      <td>0.384404</td>\n",
       "    </tr>\n",
       "    <tr>\n",
       "      <th>8</th>\n",
       "      <td>9</td>\n",
       "      <td>0.939779</td>\n",
       "      <td>0.413348</td>\n",
       "    </tr>\n",
       "    <tr>\n",
       "      <th>9</th>\n",
       "      <td>10</td>\n",
       "      <td>0.937915</td>\n",
       "      <td>0.415598</td>\n",
       "    </tr>\n",
       "    <tr>\n",
       "      <th>10</th>\n",
       "      <td>11</td>\n",
       "      <td>0.938331</td>\n",
       "      <td>0.406744</td>\n",
       "    </tr>\n",
       "    <tr>\n",
       "      <th>11</th>\n",
       "      <td>12</td>\n",
       "      <td>0.945352</td>\n",
       "      <td>0.413390</td>\n",
       "    </tr>\n",
       "    <tr>\n",
       "      <th>12</th>\n",
       "      <td>13</td>\n",
       "      <td>0.946969</td>\n",
       "      <td>0.411453</td>\n",
       "    </tr>\n",
       "    <tr>\n",
       "      <th>13</th>\n",
       "      <td>14</td>\n",
       "      <td>0.947073</td>\n",
       "      <td>0.408898</td>\n",
       "    </tr>\n",
       "    <tr>\n",
       "      <th>14</th>\n",
       "      <td>15</td>\n",
       "      <td>0.950392</td>\n",
       "      <td>0.406283</td>\n",
       "    </tr>\n",
       "    <tr>\n",
       "      <th>15</th>\n",
       "      <td>16</td>\n",
       "      <td>0.952780</td>\n",
       "      <td>0.425955</td>\n",
       "    </tr>\n",
       "    <tr>\n",
       "      <th>16</th>\n",
       "      <td>17</td>\n",
       "      <td>0.953404</td>\n",
       "      <td>0.427245</td>\n",
       "    </tr>\n",
       "    <tr>\n",
       "      <th>17</th>\n",
       "      <td>18</td>\n",
       "      <td>0.953232</td>\n",
       "      <td>0.409726</td>\n",
       "    </tr>\n",
       "    <tr>\n",
       "      <th>18</th>\n",
       "      <td>19</td>\n",
       "      <td>0.952926</td>\n",
       "      <td>0.406349</td>\n",
       "    </tr>\n",
       "    <tr>\n",
       "      <th>19</th>\n",
       "      <td>20</td>\n",
       "      <td>0.953975</td>\n",
       "      <td>0.417062</td>\n",
       "    </tr>\n",
       "    <tr>\n",
       "      <th>20</th>\n",
       "      <td>21</td>\n",
       "      <td>0.954336</td>\n",
       "      <td>0.421661</td>\n",
       "    </tr>\n",
       "    <tr>\n",
       "      <th>21</th>\n",
       "      <td>22</td>\n",
       "      <td>0.955590</td>\n",
       "      <td>0.415695</td>\n",
       "    </tr>\n",
       "    <tr>\n",
       "      <th>22</th>\n",
       "      <td>23</td>\n",
       "      <td>0.957343</td>\n",
       "      <td>0.415612</td>\n",
       "    </tr>\n",
       "    <tr>\n",
       "      <th>23</th>\n",
       "      <td>24</td>\n",
       "      <td>0.956703</td>\n",
       "      <td>0.430287</td>\n",
       "    </tr>\n",
       "    <tr>\n",
       "      <th>24</th>\n",
       "      <td>25</td>\n",
       "      <td>0.956691</td>\n",
       "      <td>0.435008</td>\n",
       "    </tr>\n",
       "    <tr>\n",
       "      <th>25</th>\n",
       "      <td>26</td>\n",
       "      <td>0.957429</td>\n",
       "      <td>0.447792</td>\n",
       "    </tr>\n",
       "    <tr>\n",
       "      <th>26</th>\n",
       "      <td>27</td>\n",
       "      <td>0.955432</td>\n",
       "      <td>0.422622</td>\n",
       "    </tr>\n",
       "    <tr>\n",
       "      <th>27</th>\n",
       "      <td>28</td>\n",
       "      <td>0.955602</td>\n",
       "      <td>0.429761</td>\n",
       "    </tr>\n",
       "    <tr>\n",
       "      <th>28</th>\n",
       "      <td>29</td>\n",
       "      <td>0.955590</td>\n",
       "      <td>0.432573</td>\n",
       "    </tr>\n",
       "  </tbody>\n",
       "</table>\n",
       "</div>"
      ],
      "text/plain": [
       "    max_features  train_acc  valid_acc\n",
       "0              1   0.551791   0.034215\n",
       "1              2   0.808964   0.168421\n",
       "2              3   0.836886   0.278239\n",
       "3              4   0.899912   0.305022\n",
       "4              5   0.929907   0.261307\n",
       "5              6   0.939145   0.327791\n",
       "6              7   0.940379   0.331770\n",
       "7              8   0.939796   0.384404\n",
       "8              9   0.939779   0.413348\n",
       "9             10   0.937915   0.415598\n",
       "10            11   0.938331   0.406744\n",
       "11            12   0.945352   0.413390\n",
       "12            13   0.946969   0.411453\n",
       "13            14   0.947073   0.408898\n",
       "14            15   0.950392   0.406283\n",
       "15            16   0.952780   0.425955\n",
       "16            17   0.953404   0.427245\n",
       "17            18   0.953232   0.409726\n",
       "18            19   0.952926   0.406349\n",
       "19            20   0.953975   0.417062\n",
       "20            21   0.954336   0.421661\n",
       "21            22   0.955590   0.415695\n",
       "22            23   0.957343   0.415612\n",
       "23            24   0.956703   0.430287\n",
       "24            25   0.956691   0.435008\n",
       "25            26   0.957429   0.447792\n",
       "26            27   0.955432   0.422622\n",
       "27            28   0.955602   0.429761\n",
       "28            29   0.955590   0.432573"
      ]
     },
     "execution_count": 101,
     "metadata": {},
     "output_type": "execute_result"
    }
   ],
   "source": [
    "frame = pd.DataFrame({'max_features':range(1,30), 'train_acc':train_accuracy, 'valid_acc':validation_accuracy})\n",
    "frame"
   ]
  },
  {
   "cell_type": "code",
   "execution_count": 102,
   "metadata": {},
   "outputs": [
    {
     "data": {
      "text/plain": [
       "<matplotlib.legend.Legend at 0x1df6807b848>"
      ]
     },
     "execution_count": 102,
     "metadata": {},
     "output_type": "execute_result"
    },
    {
     "data": {
      "image/png": "[encoded data removed]",
      "text/plain": [
       "<Figure size 1008x432 with 1 Axes>"
      ]
     },
     "metadata": {
      "needs_background": "light"
     },
     "output_type": "display_data"
    }
   ],
   "source": [
    "plt.figure(figsize=(14,6))\n",
    "plt.plot(frame['max_features'], frame['train_acc'], marker='o')\n",
    "plt.plot(frame['max_features'], frame['valid_acc'], marker='o')\n",
    "plt.xlabel('Max_features')\n",
    "plt.ylabel('performance')\n",
    "plt.legend([\"Train\" , \"Valid\"])"
   ]
  },
  {
   "cell_type": "code",
   "execution_count": 103,
   "metadata": {},
   "outputs": [
    {
     "data": {
      "text/html": [
       "<div>\n",
       "<style scoped>\n",
       "    .dataframe tbody tr th:only-of-type {\n",
       "        vertical-align: middle;\n",
       "    }\n",
       "\n",
       "    .dataframe tbody tr th {\n",
       "        vertical-align: top;\n",
       "    }\n",
       "\n",
       "    .dataframe thead th {\n",
       "        text-align: right;\n",
       "    }\n",
       "</style>\n",
       "<table border=\"1\" class=\"dataframe\">\n",
       "  <thead>\n",
       "    <tr style=\"text-align: right;\">\n",
       "      <th></th>\n",
       "      <th>max_features</th>\n",
       "      <th>train_acc</th>\n",
       "      <th>valid_acc</th>\n",
       "    </tr>\n",
       "  </thead>\n",
       "  <tbody>\n",
       "    <tr>\n",
       "      <th>0</th>\n",
       "      <td>1</td>\n",
       "      <td>0.541016</td>\n",
       "      <td>0.020313</td>\n",
       "    </tr>\n",
       "    <tr>\n",
       "      <th>1</th>\n",
       "      <td>2</td>\n",
       "      <td>0.833490</td>\n",
       "      <td>0.087085</td>\n",
       "    </tr>\n",
       "    <tr>\n",
       "      <th>2</th>\n",
       "      <td>3</td>\n",
       "      <td>0.911289</td>\n",
       "      <td>0.178231</td>\n",
       "    </tr>\n",
       "    <tr>\n",
       "      <th>3</th>\n",
       "      <td>4</td>\n",
       "      <td>0.921235</td>\n",
       "      <td>0.181941</td>\n",
       "    </tr>\n",
       "    <tr>\n",
       "      <th>4</th>\n",
       "      <td>5</td>\n",
       "      <td>0.932133</td>\n",
       "      <td>0.192513</td>\n",
       "    </tr>\n",
       "    <tr>\n",
       "      <th>5</th>\n",
       "      <td>6</td>\n",
       "      <td>0.941127</td>\n",
       "      <td>0.245725</td>\n",
       "    </tr>\n",
       "    <tr>\n",
       "      <th>6</th>\n",
       "      <td>7</td>\n",
       "      <td>0.940544</td>\n",
       "      <td>0.265752</td>\n",
       "    </tr>\n",
       "    <tr>\n",
       "      <th>7</th>\n",
       "      <td>8</td>\n",
       "      <td>0.942123</td>\n",
       "      <td>0.288355</td>\n",
       "    </tr>\n",
       "    <tr>\n",
       "      <th>8</th>\n",
       "      <td>9</td>\n",
       "      <td>0.946569</td>\n",
       "      <td>0.328428</td>\n",
       "    </tr>\n",
       "    <tr>\n",
       "      <th>9</th>\n",
       "      <td>10</td>\n",
       "      <td>0.948300</td>\n",
       "      <td>0.337830</td>\n",
       "    </tr>\n",
       "    <tr>\n",
       "      <th>10</th>\n",
       "      <td>11</td>\n",
       "      <td>0.948919</td>\n",
       "      <td>0.334515</td>\n",
       "    </tr>\n",
       "    <tr>\n",
       "      <th>11</th>\n",
       "      <td>12</td>\n",
       "      <td>0.950581</td>\n",
       "      <td>0.358226</td>\n",
       "    </tr>\n",
       "    <tr>\n",
       "      <th>12</th>\n",
       "      <td>13</td>\n",
       "      <td>0.947043</td>\n",
       "      <td>0.393939</td>\n",
       "    </tr>\n",
       "    <tr>\n",
       "      <th>13</th>\n",
       "      <td>14</td>\n",
       "      <td>0.948549</td>\n",
       "      <td>0.361763</td>\n",
       "    </tr>\n",
       "    <tr>\n",
       "      <th>14</th>\n",
       "      <td>15</td>\n",
       "      <td>0.953086</td>\n",
       "      <td>0.367855</td>\n",
       "    </tr>\n",
       "    <tr>\n",
       "      <th>15</th>\n",
       "      <td>16</td>\n",
       "      <td>0.950567</td>\n",
       "      <td>0.402831</td>\n",
       "    </tr>\n",
       "    <tr>\n",
       "      <th>16</th>\n",
       "      <td>17</td>\n",
       "      <td>0.951223</td>\n",
       "      <td>0.386637</td>\n",
       "    </tr>\n",
       "    <tr>\n",
       "      <th>17</th>\n",
       "      <td>18</td>\n",
       "      <td>0.949062</td>\n",
       "      <td>0.407547</td>\n",
       "    </tr>\n",
       "    <tr>\n",
       "      <th>18</th>\n",
       "      <td>19</td>\n",
       "      <td>0.951489</td>\n",
       "      <td>0.401737</td>\n",
       "    </tr>\n",
       "    <tr>\n",
       "      <th>19</th>\n",
       "      <td>20</td>\n",
       "      <td>0.952872</td>\n",
       "      <td>0.400000</td>\n",
       "    </tr>\n",
       "    <tr>\n",
       "      <th>20</th>\n",
       "      <td>21</td>\n",
       "      <td>0.952381</td>\n",
       "      <td>0.394184</td>\n",
       "    </tr>\n",
       "    <tr>\n",
       "      <th>21</th>\n",
       "      <td>22</td>\n",
       "      <td>0.952767</td>\n",
       "      <td>0.403650</td>\n",
       "    </tr>\n",
       "    <tr>\n",
       "      <th>22</th>\n",
       "      <td>23</td>\n",
       "      <td>0.951369</td>\n",
       "      <td>0.423158</td>\n",
       "    </tr>\n",
       "    <tr>\n",
       "      <th>23</th>\n",
       "      <td>24</td>\n",
       "      <td>0.953709</td>\n",
       "      <td>0.419027</td>\n",
       "    </tr>\n",
       "    <tr>\n",
       "      <th>24</th>\n",
       "      <td>25</td>\n",
       "      <td>0.950021</td>\n",
       "      <td>0.427740</td>\n",
       "    </tr>\n",
       "    <tr>\n",
       "      <th>25</th>\n",
       "      <td>26</td>\n",
       "      <td>0.954228</td>\n",
       "      <td>0.430233</td>\n",
       "    </tr>\n",
       "    <tr>\n",
       "      <th>26</th>\n",
       "      <td>27</td>\n",
       "      <td>0.951969</td>\n",
       "      <td>0.418406</td>\n",
       "    </tr>\n",
       "    <tr>\n",
       "      <th>27</th>\n",
       "      <td>28</td>\n",
       "      <td>0.951649</td>\n",
       "      <td>0.435381</td>\n",
       "    </tr>\n",
       "    <tr>\n",
       "      <th>28</th>\n",
       "      <td>29</td>\n",
       "      <td>0.953962</td>\n",
       "      <td>0.410202</td>\n",
       "    </tr>\n",
       "  </tbody>\n",
       "</table>\n",
       "</div>"
      ],
      "text/plain": [
       "    max_features  train_acc  valid_acc\n",
       "0              1   0.541016   0.020313\n",
       "1              2   0.833490   0.087085\n",
       "2              3   0.911289   0.178231\n",
       "3              4   0.921235   0.181941\n",
       "4              5   0.932133   0.192513\n",
       "5              6   0.941127   0.245725\n",
       "6              7   0.940544   0.265752\n",
       "7              8   0.942123   0.288355\n",
       "8              9   0.946569   0.328428\n",
       "9             10   0.948300   0.337830\n",
       "10            11   0.948919   0.334515\n",
       "11            12   0.950581   0.358226\n",
       "12            13   0.947043   0.393939\n",
       "13            14   0.948549   0.361763\n",
       "14            15   0.953086   0.367855\n",
       "15            16   0.950567   0.402831\n",
       "16            17   0.951223   0.386637\n",
       "17            18   0.949062   0.407547\n",
       "18            19   0.951489   0.401737\n",
       "19            20   0.952872   0.400000\n",
       "20            21   0.952381   0.394184\n",
       "21            22   0.952767   0.403650\n",
       "22            23   0.951369   0.423158\n",
       "23            24   0.953709   0.419027\n",
       "24            25   0.950021   0.427740\n",
       "25            26   0.954228   0.430233\n",
       "26            27   0.951969   0.418406\n",
       "27            28   0.951649   0.435381\n",
       "28            29   0.953962   0.410202"
      ]
     },
     "execution_count": 103,
     "metadata": {},
     "output_type": "execute_result"
    }
   ],
   "source": [
    "train_accuracy = []\n",
    "validation_accuracy = []\n",
    "for feature in range(1,30):\n",
    "    bc1 = BC(bootstrap_features = True , max_features = feature, random_state=10)\n",
    "    bc1.fit(x_train, y_train)\n",
    "    pred_train = bc1.predict(x_train)\n",
    "    pred_val = bc1.predict(x_val)\n",
    "    train_accuracy.append(f1_score(pred_train , y_train))\n",
    "    validation_accuracy.append(f1_score(pred_val , y_val))\n",
    "\n",
    "frame = pd.DataFrame({'max_features':range(1,30), 'train_acc':train_accuracy, 'valid_acc':validation_accuracy})\n",
    "frame"
   ]
  },
  {
   "cell_type": "code",
   "execution_count": 104,
   "metadata": {},
   "outputs": [
    {
     "data": {
      "text/plain": [
       "<matplotlib.legend.Legend at 0x1df680f1a88>"
      ]
     },
     "execution_count": 104,
     "metadata": {},
     "output_type": "execute_result"
    },
    {
     "data": {
      "image/png": "[encoded data removed]",
      "text/plain": [
       "<Figure size 1008x432 with 1 Axes>"
      ]
     },
     "metadata": {
      "needs_background": "light"
     },
     "output_type": "display_data"
    }
   ],
   "source": [
    "plt.figure(figsize=(14,6))\n",
    "plt.plot(frame['max_features'], frame['train_acc'], marker='o')\n",
    "plt.plot(frame['max_features'], frame['valid_acc'], marker='o')\n",
    "plt.xlabel('Max_features')\n",
    "plt.ylabel('performance')\n",
    "plt.legend([\"Train\" , \"Valid\"])"
   ]
  },
  {
   "cell_type": "markdown",
   "metadata": {},
   "source": [
    "#### At 17 max_features with boot_starp = True is best"
   ]
  },
  {
   "cell_type": "code",
   "execution_count": 105,
   "metadata": {},
   "outputs": [],
   "source": [
    "from sklearn.linear_model import LogisticRegression "
   ]
  },
  {
   "cell_type": "code",
   "execution_count": 106,
   "metadata": {},
   "outputs": [],
   "source": [
    "LR = LogisticRegression(penalty='l1' , class_weight='balanced', solver='liblinear')"
   ]
  },
  {
   "cell_type": "code",
   "execution_count": 107,
   "metadata": {},
   "outputs": [
    {
     "data": {
      "text/plain": [
       "(0.5047290530766663, 0.5159382188629642)"
      ]
     },
     "execution_count": 107,
     "metadata": {},
     "output_type": "execute_result"
    }
   ],
   "source": [
    "bc1 = BC(base_estimator = LR , random_state=10)\n",
    "\n",
    "#fitting the model\n",
    "bc1.fit(x_train, y_train)\n",
    "pred_train = bc1.predict(x_train)\n",
    "pred_val = bc1.predict(x_val)\n",
    "\n",
    "from sklearn.metrics import f1_score\n",
    "score1 = f1_score(pred_train, y_train)\n",
    "score2 = f1_score(pred_val, y_val)\n",
    "score1 , score2"
   ]
  },
  {
   "cell_type": "code",
   "execution_count": null,
   "metadata": {},
   "outputs": [],
   "source": []
  }
 ],
 "metadata": {
  "kernelspec": {
   "display_name": "Python 3",
   "language": "python",
   "name": "python3"
  },
  "language_info": {
   "codemirror_mode": {
    "name": "ipython",
    "version": 3
   },
   "file_extension": ".py",
   "mimetype": "text/x-python",
   "name": "python",
   "nbconvert_exporter": "python",
   "pygments_lexer": "ipython3",
   "version": "3.7.6"
  }
 },
 "nbformat": 4,
 "nbformat_minor": 4
}
